{
  "nbformat": 4,
  "nbformat_minor": 5,
  "metadata": {
    "kernelspec": {
      "display_name": "Python 3",
      "language": "python",
      "name": "python3"
    },
    "language_info": {
      "codemirror_mode": {
        "name": "ipython",
        "version": 3
      },
      "file_extension": ".py",
      "mimetype": "text/x-python",
      "name": "python",
      "nbconvert_exporter": "python",
      "pygments_lexer": "ipython3",
      "version": "3.8.8"
    },
    "colab": {
      "name": "Matrix Operations.ipynb",
      "provenance": [],
      "include_colab_link": true
    }
  },
  "cells": [
    {
      "cell_type": "markdown",
      "metadata": {
        "id": "view-in-github",
        "colab_type": "text"
      },
      "source": [
        "<a href=\"https://colab.research.google.com/github/Ansariboys88/Ansariboys88.github.io/blob/master/Matrix_Operations.ipynb\" target=\"_parent\"><img src=\"https://colab.research.google.com/assets/colab-badge.svg\" alt=\"Open In Colab\"/></a>"
      ]
    },
    {
      "cell_type": "code",
      "metadata": {
        "id": "9d3039aa"
      },
      "source": [
        ""
      ],
      "id": "9d3039aa",
      "execution_count": null,
      "outputs": []
    },
    {
      "cell_type": "markdown",
      "metadata": {
        "id": "84kJdgZjNcz6"
      },
      "source": [
        "**Name:- MOHD NAZIM ANSARI**\n",
        "\n",
        "**Reg No:- 19BAI10088**"
      ],
      "id": "84kJdgZjNcz6"
    },
    {
      "cell_type": "code",
      "metadata": {
        "id": "a80400d5"
      },
      "source": [
        "import numpy as np\n",
        "import pandas as pd\n",
        "import csv"
      ],
      "id": "a80400d5",
      "execution_count": 2,
      "outputs": []
    },
    {
      "cell_type": "code",
      "metadata": {
        "colab": {
          "base_uri": "https://localhost:8080/"
        },
        "id": "6879095d",
        "outputId": "5283c081-0286-4553-b0fe-874d9860d5d9"
      },
      "source": [
        "#Reading datasets\n",
        "df1 = pd.read_csv(\"check1.csv\",header = None, prefix=\"var\")\n",
        "df2 = pd.read_csv(\"check2.csv\", header = None, prefix=\"var\")\n",
        "df3 = pd.read_csv(\"check3.csv\", header = None, prefix=\"var\")\n",
        "\n",
        "    \n",
        "#converting data to 2D array\n",
        "M1 =np.array(df1)\n",
        "print(M1)\n",
        "\n",
        "M2 = np.array(df2)\n",
        "print(M2)\n",
        "\n",
        "M3 = np.array(df3)\n",
        "print(M3)\n"
      ],
      "id": "6879095d",
      "execution_count": 19,
      "outputs": [
        {
          "output_type": "stream",
          "name": "stdout",
          "text": [
            "[[23  4 34]\n",
            " [32 53 12]\n",
            " [44 65 42]]\n",
            "[[33 53]\n",
            " [52  1]\n",
            " [23 29]]\n",
            "[[56  7 45]\n",
            " [77 43 23]\n",
            " [34 65 12]]\n"
          ]
        }
      ]
    },
    {
      "cell_type": "code",
      "metadata": {
        "colab": {
          "base_uri": "https://localhost:8080/"
        },
        "id": "6cf6e485",
        "outputId": "f062a614-13a1-48d7-9f85-acdf32ddf43c"
      },
      "source": [
        "#Transpose\n",
        "print(np.transpose(M1))\n",
        "print(np.transpose(M2))\n",
        "print(np.transpose(M3))"
      ],
      "id": "6cf6e485",
      "execution_count": 4,
      "outputs": [
        {
          "output_type": "stream",
          "name": "stdout",
          "text": [
            "[[23 32 44]\n",
            " [ 4 53 65]\n",
            " [34 12 42]]\n",
            "[[33 52 23]\n",
            " [53  1 29]]\n",
            "[[56 77 34]\n",
            " [ 7 43 65]\n",
            " [45 23 12]]\n"
          ]
        }
      ]
    },
    {
      "cell_type": "code",
      "metadata": {
        "id": "b124fcc0"
      },
      "source": [
        "#Multiplication using loops\n",
        "\n",
        "if(len(M2[0])== len(M1)):\n",
        "    \n",
        "    res = [[0 for x in range(len(M2[0]))] for y in range(len(M1))]\n",
        "\n",
        "\n",
        "    for i in range(len(M1)):\n",
        "        for j in range(len(M2[0])):\n",
        "            for k in range(len(M2)):\n",
        "  \n",
        "                #resulted matrix\n",
        "                res[i][j] += M1[i][k] * M2[k][j]\n",
        "         "
      ],
      "id": "b124fcc0",
      "execution_count": 17,
      "outputs": []
    },
    {
      "cell_type": "code",
      "metadata": {
        "colab": {
          "base_uri": "https://localhost:8080/"
        },
        "id": "d98124a3",
        "outputId": "d8c5a8b5-82cf-4fde-dcab-1dd9637c0391"
      },
      "source": [
        "#Multiplication using numpy\n",
        "res = [[0 for x in range(len(M2[0]))] for y in range(len(M1))]\n",
        "res = np.matmul(M1,M2)\n",
        "print(res)"
      ],
      "id": "d98124a3",
      "execution_count": 7,
      "outputs": [
        {
          "output_type": "stream",
          "name": "stdout",
          "text": [
            "[[1749 2209]\n",
            " [4088 2097]\n",
            " [5798 3615]]\n"
          ]
        }
      ]
    },
    {
      "cell_type": "code",
      "metadata": {
        "colab": {
          "base_uri": "https://localhost:8080/"
        },
        "id": "8b27f0ae",
        "outputId": "c158f6c8-fd58-47eb-c687-47ab4cd1e034"
      },
      "source": [
        "#Addition\n",
        "print(M1+M3)"
      ],
      "id": "8b27f0ae",
      "execution_count": 8,
      "outputs": [
        {
          "output_type": "stream",
          "name": "stdout",
          "text": [
            "[[ 79  11  79]\n",
            " [109  96  35]\n",
            " [ 78 130  54]]\n"
          ]
        }
      ]
    },
    {
      "cell_type": "code",
      "metadata": {
        "colab": {
          "base_uri": "https://localhost:8080/"
        },
        "id": "74384961",
        "outputId": "75ba834f-2584-4b00-ee8d-9cb75012a9fb"
      },
      "source": [
        "#Subtraction\n",
        "print(M1-M3)"
      ],
      "id": "74384961",
      "execution_count": 9,
      "outputs": [
        {
          "output_type": "stream",
          "name": "stdout",
          "text": [
            "[[-33  -3 -11]\n",
            " [-45  10 -11]\n",
            " [ 10   0  30]]\n"
          ]
        }
      ]
    },
    {
      "cell_type": "code",
      "metadata": {
        "colab": {
          "base_uri": "https://localhost:8080/"
        },
        "id": "58dab048",
        "outputId": "23bb0ea3-fd9d-4f21-a51d-6834617cc1af"
      },
      "source": [
        "#Division\n",
        "print(M1/M3)"
      ],
      "id": "58dab048",
      "execution_count": 10,
      "outputs": [
        {
          "output_type": "stream",
          "name": "stdout",
          "text": [
            "[[0.41071429 0.57142857 0.75555556]\n",
            " [0.41558442 1.23255814 0.52173913]\n",
            " [1.29411765 1.         3.5       ]]\n"
          ]
        }
      ]
    },
    {
      "cell_type": "code",
      "metadata": {
        "id": "220947f3"
      },
      "source": [
        ""
      ],
      "id": "220947f3",
      "execution_count": null,
      "outputs": []
    }
  ]
}